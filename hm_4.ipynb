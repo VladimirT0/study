{
 "cells": [
  {
   "cell_type": "code",
   "execution_count": 1,
   "metadata": {},
   "outputs": [],
   "source": [
    "import cv2\n",
    "import numpy as np\n",
    "from PIL import Image\n",
    "import os\n",
    "import random\n",
    "from torchvision import transforms\n"
   ]
  },
  {
   "cell_type": "code",
   "execution_count": 2,
   "metadata": {},
   "outputs": [],
   "source": [
    "def flip_vertical(image):\n",
    "    return cv2.flip(image, 1)"
   ]
  },
  {
   "cell_type": "code",
   "execution_count": 3,
   "metadata": {},
   "outputs": [],
   "source": [
    "def rotate_image(image, angle):\n",
    "    (h, w) = image.shape[:2]\n",
    "    center = (w // 2, h // 2)\n",
    "    matrix = cv2.getRotationMatrix2D(center, angle, 1.0)\n",
    "    return cv2.warpAffine(image, matrix, (w, h))\n"
   ]
  },
  {
   "cell_type": "code",
   "execution_count": 4,
   "metadata": {},
   "outputs": [],
   "source": [
    "def crop_image(image, side):\n",
    "    h, w = image.shape[:2]\n",
    "    if side == \"left\":\n",
    "        return image[:, w//10:]  # Обрезка слева\n",
    "    elif side == \"right\":\n",
    "        return image[:, :-w//10]  # Обрезка справа\n",
    "    elif side == \"top\":\n",
    "        return image[h//10:, :]  # Обрезка сверху\n",
    "    elif side == \"bottom\":\n",
    "        return image[:-h//10, :]  # Обрезка снизу\n",
    "    return image\n"
   ]
  },
  {
   "cell_type": "code",
   "execution_count": 5,
   "metadata": {},
   "outputs": [],
   "source": [
    "def apply_blur(image, kernel_size):\n",
    "    kernel_size = (3, 3)  # Убедитесь, что значения ширины и высоты нечетные.\n",
    "    return cv2.GaussianBlur(image, kernel_size, 0)\n"
   ]
  },
  {
   "cell_type": "code",
   "execution_count": 6,
   "metadata": {},
   "outputs": [],
   "source": [
    "def add_noise(image):\n",
    "    noise = np.random.normal(0, 25, image.shape).astype(np.uint8)\n",
    "    return cv2.add(image, noise)\n"
   ]
  },
  {
   "cell_type": "code",
   "execution_count": 7,
   "metadata": {},
   "outputs": [],
   "source": [
    "def add_scratch(image):\n",
    "    h, w = image.shape[:2]\n",
    "    num_lines = random.randint(1, 5)\n",
    "    for _ in range(num_lines):\n",
    "        x1, y1 = random.randint(0, w), random.randint(0, h)\n",
    "        x2, y2 = random.randint(0, w), random.randint(0, h)\n",
    "        color = (255, 255, 255) if random.random() > 0.5 else (0, 0, 0)\n",
    "        thickness = random.randint(1, 3)\n",
    "        cv2.line(image, (x1, y1), (x2, y2), color, thickness)\n",
    "    return image\n"
   ]
  },
  {
   "cell_type": "code",
   "execution_count": 8,
   "metadata": {},
   "outputs": [],
   "source": [
    "def process_and_save_images(input_dir, output_dir):\n",
    "    angles = [0, -10, -15, -20, 10, 15, 20]\n",
    "    crops = [\"left\", \"right\", \"top\", \"bottom\"]\n",
    "    blur_kernels = [0, 8, 15]\n",
    "\n",
    "    if not os.path.exists(output_dir):\n",
    "        os.makedirs(output_dir)\n",
    "\n",
    "    for filename in os.listdir(input_dir):\n",
    "        if filename.endswith(\".jpg\") or filename.endswith(\".png\"):\n",
    "            img_path = os.path.join(input_dir, filename)\n",
    "            image = cv2.imread(img_path)\n",
    "            image = cv2.resize(image, (224, 224))\n",
    "\n",
    "            for flip in [True, False]:\n",
    "                flipped_img = flip_vertical(image) if flip else image\n",
    "                for angle in angles:\n",
    "                    rotated_img = rotate_image(flipped_img, angle)\n",
    "                    for crop in crops:\n",
    "                        cropped_img = crop_image(rotated_img, crop)\n",
    "                        for blur in blur_kernels:\n",
    "                            blurred_img = apply_blur(cropped_img, blur) if blur > 0 else cropped_img\n",
    "                            for noise in [True, False]:\n",
    "                                noised_img = add_noise(blurred_img) if noise else blurred_img\n",
    "                                for scratch in [True, False]:\n",
    "                                    final_img = add_scratch(noised_img) if scratch else noised_img\n",
    "\n",
    "                                    output_path = os.path.join(output_dir, f\"aug_{filename.split('.')[0]}_{flip}_{angle}_{crop}_{blur}_{noise}_{scratch}.jpg\")\n",
    "                                    cv2.imwrite(output_path, final_img)\n"
   ]
  },
  {
   "cell_type": "code",
   "execution_count": 9,
   "metadata": {},
   "outputs": [],
   "source": [
    "input_directory = \"./input\"  # Папка с исходными изображениями\n",
    "output_directory = \"./augmented_images\"  # Папка для сохранения аугментированных изображений\n",
    "\n",
    "process_and_save_images(input_directory, output_directory)\n"
   ]
  }
 ],
 "metadata": {
  "kernelspec": {
   "display_name": "venv",
   "language": "python",
   "name": "python3"
  },
  "language_info": {
   "codemirror_mode": {
    "name": "ipython",
    "version": 3
   },
   "file_extension": ".py",
   "mimetype": "text/x-python",
   "name": "python",
   "nbconvert_exporter": "python",
   "pygments_lexer": "ipython3",
   "version": "3.11.9"
  }
 },
 "nbformat": 4,
 "nbformat_minor": 2
}
